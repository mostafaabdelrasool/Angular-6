{
  "nbformat": 4,
  "nbformat_minor": 0,
  "metadata": {
    "colab": {
      "provenance": [],
      "authorship_tag": "ABX9TyPwFRxmF5DqaiiuLZszlnvM",
      "include_colab_link": true
    },
    "kernelspec": {
      "name": "python3",
      "display_name": "Python 3"
    },
    "language_info": {
      "name": "python"
    }
  },
  "cells": [
    {
      "cell_type": "markdown",
      "metadata": {
        "id": "view-in-github",
        "colab_type": "text"
      },
      "source": [
        "<a href=\"https://colab.research.google.com/github/mostafaabdelrasool/Angular-6/blob/master/Dog_breed_classification.ipynb\" target=\"_parent\"><img src=\"https://colab.research.google.com/assets/colab-badge.svg\" alt=\"Open In Colab\"/></a>"
      ]
    },
    {
      "cell_type": "code",
      "source": [
        "!pip install  opencv-python matplotlib"
      ],
      "metadata": {
        "colab": {
          "base_uri": "https://localhost:8080/"
        },
        "id": "Hwerd6TlMEda",
        "outputId": "5428b179-e7f0-4b2e-d8cb-6301034f76f5"
      },
      "execution_count": null,
      "outputs": [
        {
          "output_type": "stream",
          "name": "stdout",
          "text": [
            "Requirement already satisfied: opencv-python in /usr/local/lib/python3.10/dist-packages (4.8.0.76)\n",
            "Requirement already satisfied: matplotlib in /usr/local/lib/python3.10/dist-packages (3.7.1)\n",
            "Requirement already satisfied: numpy>=1.21.2 in /usr/local/lib/python3.10/dist-packages (from opencv-python) (1.23.5)\n",
            "Requirement already satisfied: contourpy>=1.0.1 in /usr/local/lib/python3.10/dist-packages (from matplotlib) (1.2.0)\n",
            "Requirement already satisfied: cycler>=0.10 in /usr/local/lib/python3.10/dist-packages (from matplotlib) (0.12.1)\n",
            "Requirement already satisfied: fonttools>=4.22.0 in /usr/local/lib/python3.10/dist-packages (from matplotlib) (4.44.3)\n",
            "Requirement already satisfied: kiwisolver>=1.0.1 in /usr/local/lib/python3.10/dist-packages (from matplotlib) (1.4.5)\n",
            "Requirement already satisfied: packaging>=20.0 in /usr/local/lib/python3.10/dist-packages (from matplotlib) (23.2)\n",
            "Requirement already satisfied: pillow>=6.2.0 in /usr/local/lib/python3.10/dist-packages (from matplotlib) (9.4.0)\n",
            "Requirement already satisfied: pyparsing>=2.3.1 in /usr/local/lib/python3.10/dist-packages (from matplotlib) (3.1.1)\n",
            "Requirement already satisfied: python-dateutil>=2.7 in /usr/local/lib/python3.10/dist-packages (from matplotlib) (2.8.2)\n",
            "Requirement already satisfied: six>=1.5 in /usr/local/lib/python3.10/dist-packages (from python-dateutil>=2.7->matplotlib) (1.16.0)\n"
          ]
        }
      ]
    },
    {
      "cell_type": "code",
      "source": [
        "import tensorflow as tf\n",
        "import os"
      ],
      "metadata": {
        "id": "Tqh7zbI6MJvt"
      },
      "execution_count": null,
      "outputs": []
    },
    {
      "cell_type": "code",
      "execution_count": null,
      "metadata": {
        "id": "oVjkVD6aLxNE"
      },
      "outputs": [],
      "source": [
        "import pandas as pd\n",
        "\n",
        "import seaborn as sns\n",
        "import matplotlib.pyplot as plt\n",
        "%matplotlib inline"
      ]
    },
    {
      "cell_type": "code",
      "source": [
        "import pathlib\n",
        "\n",
        "import time\n",
        "\n",
        "import copy\n",
        "\n",
        "import numpy as np\n",
        "\n",
        "from PIL import Image\n",
        "from PIL import ImageFile\n",
        "import albumentations"
      ],
      "metadata": {
        "id": "XM464xebMTig"
      },
      "execution_count": null,
      "outputs": []
    },
    {
      "cell_type": "code",
      "source": [
        "def crop_image(breed, dog, data_dir):\n",
        "  img = plt.imread(data_dir + 'images/Images/' + breed + '/' + dog + '.jpg')\n",
        "  tree = ET.parse(data_dir + 'annotations/Annotation/' + breed + '/' + dog)\n",
        "  xmin = int(tree.getroot().findall('object')[0].find('bndbox').find('xmin').text)\n",
        "  xmax = int(tree.getroot().findall('object')[0].find('bndbox').find('xmax').text)\n",
        "  ymin = int(tree.getroot().findall('object')[0].find('bndbox').find('ymin').text)\n",
        "  ymax = int(tree.getroot().findall('object')[0].find('bndbox').find('ymax').text)\n",
        "  img = img[ymin:ymax, xmin:xmax, :]\n",
        "  return img"
      ],
      "metadata": {
        "id": "fOaf9I0oMdJG"
      },
      "execution_count": null,
      "outputs": []
    },
    {
      "cell_type": "code",
      "source": [
        "!mkdir data"
      ],
      "metadata": {
        "id": "13vWnUttRi9W"
      },
      "execution_count": null,
      "outputs": []
    },
    {
      "cell_type": "code",
      "source": [
        "data_dir = '../input/stanford-dogs-dataset/'\n",
        "breed_list = os.listdir(data_dir + 'images/Images/')"
      ],
      "metadata": {
        "id": "eQuoZ-MMY1dE"
      },
      "execution_count": null,
      "outputs": []
    },
    {
      "cell_type": "code",
      "source": [
        "\n",
        "if 'data' not in os.listdir():\n",
        "    os.mkdir('data')\n",
        "for breed in breed_list:\n",
        "    os.mkdir('data/' + breed)\n",
        "print('Created {} folders to store cropped images of the different breeds.'.format(len(os.listdir('data'))))"
      ],
      "metadata": {
        "id": "L8he9z_eYt3g"
      },
      "execution_count": null,
      "outputs": []
    },
    {
      "cell_type": "code",
      "source": [
        "for breed in os.listdir('data'):\n",
        "    for file in os.listdir(data_dir + 'annotations/Annotation/' + breed):\n",
        "        img = Image.open(data_dir + 'images/Images/' + breed + '/' + file + '.jpg')\n",
        "        tree = ET.parse(data_dir + 'annotations/Annotation/' + breed + '/' + file)\n",
        "        xmin = int(tree.getroot().findall('object')[0].find('bndbox').find('xmin').text)\n",
        "        xmax = int(tree.getroot().findall('object')[0].find('bndbox').find('xmax').text)\n",
        "        ymin = int(tree.getroot().findall('object')[0].find('bndbox').find('ymin').text)\n",
        "        ymax = int(tree.getroot().findall('object')[0].find('bndbox').find('ymax').text)\n",
        "        img = img.crop((xmin,ymin,xmax,ymax))\n",
        "        img = img.convert('RGB')\n",
        "        img.save('data/' + breed + '/' + file + '.jpg')"
      ],
      "metadata": {
        "id": "XoJ1gBVLY8oO"
      },
      "execution_count": null,
      "outputs": []
    },
    {
      "cell_type": "markdown",
      "source": [
        "Total number of cropped Images¶\n"
      ],
      "metadata": {
        "id": "fTsLmnPrZBsx"
      }
    },
    {
      "cell_type": "code",
      "source": [
        "img_count = 0\n",
        "for folder in os.listdir('data'):\n",
        "    for _ in os.listdir('data/' + folder):\n",
        "        img_count += 1\n",
        "print('No. of Images: {}'.format(img_count))"
      ],
      "metadata": {
        "id": "xYNOjXbCZCao"
      },
      "execution_count": null,
      "outputs": []
    },
    {
      "cell_type": "code",
      "source": [
        "train_transform = transforms.Compose([\n",
        "    transforms.RandomRotation(degrees=11),\n",
        "    transforms.RandomHorizontalFlip(0.5),\n",
        "    transforms.Resize(size=224),\n",
        "    transforms.CenterCrop(size=224),\n",
        "    transforms.ToTensor(),\n",
        "    transforms.Normalize([0.485, 0.456, 0.406],[0.229, 0.224, 0.225])\n",
        "])\n",
        "validation_transform = transforms.Compose([\n",
        "    transforms.Resize(size=224),\n",
        "    transforms.CenterCrop(size=224),\n",
        "    transforms.ToTensor(),\n",
        "    transforms.Normalize([0.485, 0.456, 0.406], [0.229, 0.224, 0.225])\n",
        "])"
      ],
      "metadata": {
        "id": "9UQod957ZSFq"
      },
      "execution_count": null,
      "outputs": []
    }
  ]
}