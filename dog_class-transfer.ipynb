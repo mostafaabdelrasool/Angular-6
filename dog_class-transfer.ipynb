{
 "cells": [
  {
   "cell_type": "code",
   "execution_count": 1,
   "id": "7cceb087-87ab-4bab-9982-da3e77660258",
   "metadata": {},
   "outputs": [
    {
     "name": "stderr",
     "output_type": "stream",
     "text": [
      "2024-02-21 11:20:40.093956: E external/local_xla/xla/stream_executor/cuda/cuda_dnn.cc:9261] Unable to register cuDNN factory: Attempting to register factory for plugin cuDNN when one has already been registered\n",
      "2024-02-21 11:20:40.094068: E external/local_xla/xla/stream_executor/cuda/cuda_fft.cc:607] Unable to register cuFFT factory: Attempting to register factory for plugin cuFFT when one has already been registered\n",
      "2024-02-21 11:20:40.185246: E external/local_xla/xla/stream_executor/cuda/cuda_blas.cc:1515] Unable to register cuBLAS factory: Attempting to register factory for plugin cuBLAS when one has already been registered\n",
      "2024-02-21 11:20:40.377050: I tensorflow/core/platform/cpu_feature_guard.cc:182] This TensorFlow binary is optimized to use available CPU instructions in performance-critical operations.\n",
      "To enable the following instructions: AVX2 FMA, in other operations, rebuild TensorFlow with the appropriate compiler flags.\n",
      "2024-02-21 11:20:42.056026: W tensorflow/compiler/tf2tensorrt/utils/py_utils.cc:38] TF-TRT Warning: Could not find TensorRT\n"
     ]
    }
   ],
   "source": [
    "import numpy as np\n",
    "import time\n",
    "\n",
    "import PIL.Image as Image\n",
    "import matplotlib.pylab as plt\n",
    "\n",
    "import tensorflow as tf\n",
    "import tensorflow_hub as hub\n",
    "\n",
    "import datetime\n",
    "\n",
    "%load_ext tensorboard"
   ]
  },
  {
   "cell_type": "code",
   "execution_count": 7,
   "id": "a45a0851-6d0d-493c-b89a-00e1f79624d5",
   "metadata": {},
   "outputs": [],
   "source": [
    "mobilenet_v2 =\"https://tfhub.dev/google/tf2-preview/mobilenet_v2/classification/4\"\n",
    "IMAGE_SHAPE = (224, 224)"
   ]
  },
  {
   "cell_type": "code",
   "execution_count": 15,
   "id": "f4458c6f-48ed-4f52-8692-27aa8742b695",
   "metadata": {},
   "outputs": [],
   "source": [
    "\n",
    "\n",
    "classifier = tf.keras.Sequential([\n",
    "    hub.KerasLayer(mobilenet_v2, input_shape=IMAGE_SHAPE+(3,))\n",
    "])"
   ]
  },
  {
   "cell_type": "code",
   "execution_count": 12,
   "id": "5e9f9439-c8d5-4ef2-a23b-070e8fad4c39",
   "metadata": {},
   "outputs": [],
   "source": [
    "\n",
    "grace_hopper = Image.open('WhatsApp Image 2024-02-07 at 6.49.28 PM.jpeg').resize(IMAGE_SHAPE)\n"
   ]
  },
  {
   "cell_type": "code",
   "execution_count": 13,
   "id": "c3cb5b84-b31a-4872-977c-6790672bac85",
   "metadata": {},
   "outputs": [
    {
     "data": {
      "text/plain": [
       "(224, 224, 3)"
      ]
     },
     "execution_count": 13,
     "metadata": {},
     "output_type": "execute_result"
    }
   ],
   "source": [
    "grace_hopper = np.array(grace_hopper)/255.0\n",
    "grace_hopper.shape"
   ]
  },
  {
   "cell_type": "code",
   "execution_count": 14,
   "id": "5e37c6a9-11c9-454c-b14c-d3e079e4017a",
   "metadata": {},
   "outputs": [],
   "source": [
    "labels_path = tf.keras.utils.get_file('ImageNetLabels.txt','https://storage.googleapis.com/download.tensorflow.org/data/ImageNetLabels.txt')\n",
    "imagenet_labels = np.array(open(labels_path).read().splitlines())"
   ]
  },
  {
   "cell_type": "code",
   "execution_count": 16,
   "id": "90b0068a-7366-42a1-bf4d-e5a8bb93f14f",
   "metadata": {},
   "outputs": [
    {
     "name": "stdout",
     "output_type": "stream",
     "text": [
      "1/1 [==============================] - 0s 500ms/step\n"
     ]
    },
    {
     "data": {
      "text/plain": [
       "array(['Ibizan hound'], dtype='<U30')"
      ]
     },
     "execution_count": 16,
     "metadata": {},
     "output_type": "execute_result"
    }
   ],
   "source": [
    "predicted = classifier.predict(grace_hopper[np.newaxis, ...])\n",
    "predicted.shape\n",
    "predicted = np.argmax(predicted, axis=1)\n",
    "predicted\n",
    "imagenet_labels[predicted]"
   ]
  },
  {
   "cell_type": "code",
   "execution_count": 2,
   "id": "54bb9411-b20b-4f14-8532-ed0ce77b8c8f",
   "metadata": {},
   "outputs": [
    {
     "name": "stdout",
     "output_type": "stream",
     "text": [
      "Found 12000 files belonging to 120 classes.\n",
      "Using 9600 files for training.\n"
     ]
    },
    {
     "name": "stderr",
     "output_type": "stream",
     "text": [
      "2024-02-21 11:20:47.992987: I external/local_xla/xla/stream_executor/cuda/cuda_executor.cc:901] successful NUMA node read from SysFS had negative value (-1), but there must be at least one NUMA node, so returning NUMA node zero. See more at https://github.com/torvalds/linux/blob/v6.0/Documentation/ABI/testing/sysfs-bus-pci#L344-L355\n",
      "2024-02-21 11:20:48.313924: I external/local_xla/xla/stream_executor/cuda/cuda_executor.cc:901] successful NUMA node read from SysFS had negative value (-1), but there must be at least one NUMA node, so returning NUMA node zero. See more at https://github.com/torvalds/linux/blob/v6.0/Documentation/ABI/testing/sysfs-bus-pci#L344-L355\n",
      "2024-02-21 11:20:48.314820: I external/local_xla/xla/stream_executor/cuda/cuda_executor.cc:901] successful NUMA node read from SysFS had negative value (-1), but there must be at least one NUMA node, so returning NUMA node zero. See more at https://github.com/torvalds/linux/blob/v6.0/Documentation/ABI/testing/sysfs-bus-pci#L344-L355\n",
      "2024-02-21 11:20:48.318574: I external/local_xla/xla/stream_executor/cuda/cuda_executor.cc:901] successful NUMA node read from SysFS had negative value (-1), but there must be at least one NUMA node, so returning NUMA node zero. See more at https://github.com/torvalds/linux/blob/v6.0/Documentation/ABI/testing/sysfs-bus-pci#L344-L355\n",
      "2024-02-21 11:20:48.319294: I external/local_xla/xla/stream_executor/cuda/cuda_executor.cc:901] successful NUMA node read from SysFS had negative value (-1), but there must be at least one NUMA node, so returning NUMA node zero. See more at https://github.com/torvalds/linux/blob/v6.0/Documentation/ABI/testing/sysfs-bus-pci#L344-L355\n",
      "2024-02-21 11:20:48.319940: I external/local_xla/xla/stream_executor/cuda/cuda_executor.cc:901] successful NUMA node read from SysFS had negative value (-1), but there must be at least one NUMA node, so returning NUMA node zero. See more at https://github.com/torvalds/linux/blob/v6.0/Documentation/ABI/testing/sysfs-bus-pci#L344-L355\n",
      "2024-02-21 11:20:48.417146: I external/local_xla/xla/stream_executor/cuda/cuda_executor.cc:901] successful NUMA node read from SysFS had negative value (-1), but there must be at least one NUMA node, so returning NUMA node zero. See more at https://github.com/torvalds/linux/blob/v6.0/Documentation/ABI/testing/sysfs-bus-pci#L344-L355\n",
      "2024-02-21 11:20:48.417375: I external/local_xla/xla/stream_executor/cuda/cuda_executor.cc:901] successful NUMA node read from SysFS had negative value (-1), but there must be at least one NUMA node, so returning NUMA node zero. See more at https://github.com/torvalds/linux/blob/v6.0/Documentation/ABI/testing/sysfs-bus-pci#L344-L355\n",
      "2024-02-21 11:20:48.417565: I external/local_xla/xla/stream_executor/cuda/cuda_executor.cc:901] successful NUMA node read from SysFS had negative value (-1), but there must be at least one NUMA node, so returning NUMA node zero. See more at https://github.com/torvalds/linux/blob/v6.0/Documentation/ABI/testing/sysfs-bus-pci#L344-L355\n",
      "2024-02-21 11:20:48.417711: I tensorflow/core/common_runtime/gpu/gpu_device.cc:1929] Created device /job:localhost/replica:0/task:0/device:GPU:0 with 3504 MB memory:  -> device: 0, name: NVIDIA GeForce MX150, pci bus id: 0000:01:00.0, compute capability: 6.1\n",
      "2024-02-21 11:20:48.808719: I external/local_tsl/tsl/platform/default/subprocess.cc:304] Start cannot spawn child process: No such file or directory\n"
     ]
    },
    {
     "name": "stdout",
     "output_type": "stream",
     "text": [
      "Found 12000 files belonging to 120 classes.\n",
      "Using 2400 files for validation.\n"
     ]
    }
   ],
   "source": [
    "batch_size = 32\n",
    "img_height = 224\n",
    "img_width = 224\n",
    "data_dir = 'archive/cropped/train'\n",
    "train_ds = tf.keras.utils.image_dataset_from_directory(\n",
    "  data_dir,\n",
    "  validation_split=0.2,\n",
    "  subset=\"training\",\n",
    "  seed=123,\n",
    "  image_size=(img_height, img_width),\n",
    "  batch_size=batch_size\n",
    ")\n",
    "\n",
    "val_ds = tf.keras.utils.image_dataset_from_directory(\n",
    "  data_dir,\n",
    "  validation_split=0.2,\n",
    "  subset=\"validation\",\n",
    "  seed=123,\n",
    "  image_size=(img_height, img_width),\n",
    "  batch_size=batch_size\n",
    ")"
   ]
  },
  {
   "cell_type": "code",
   "execution_count": 3,
   "id": "cee42f5d-13d7-4891-842c-b49a2624d332",
   "metadata": {},
   "outputs": [],
   "source": [
    "class_names = np.array(train_ds.class_names)"
   ]
  },
  {
   "cell_type": "code",
   "execution_count": 7,
   "id": "0ca37bd3-6e0b-4a50-a8f0-91282b2156e8",
   "metadata": {},
   "outputs": [],
   "source": [
    "AUTOTUNE = tf.data.AUTOTUNE\n",
    "train_ds = train_ds.cache().shuffle(1000).prefetch(buffer_size=AUTOTUNE)\n",
    "val_ds = val_ds.cache().prefetch(buffer_size=AUTOTUNE)"
   ]
  },
  {
   "cell_type": "code",
   "execution_count": 8,
   "id": "cf0f2255-21e8-454c-a190-52429ebcb6d7",
   "metadata": {},
   "outputs": [],
   "source": [
    "feature_extractor_model = \"https://tfhub.dev/google/tf2-preview/mobilenet_v2/feature_vector/4\"\n",
    "\n",
    "pretrained_model_without_top_layer = hub.KerasLayer(\n",
    "    feature_extractor_model, input_shape=(224, 224, 3), trainable=False)"
   ]
  },
  {
   "cell_type": "code",
   "execution_count": 9,
   "id": "d83bbe81-9120-45d1-998c-d7b1d29d6e6b",
   "metadata": {},
   "outputs": [],
   "source": [
    "\n",
    "normalization_layer = tf.keras.layers.Rescaling(1./255)\n",
    "train_ds = train_ds.map(lambda x, y: (normalization_layer(x), y)) # Where x—images, y—labels.\n",
    "val_ds = val_ds.map(lambda x, y: (normalization_layer(x), y)) # Where x—images, y—labels.\n",
    "     "
   ]
  },
  {
   "cell_type": "code",
   "execution_count": 10,
   "id": "65230ebd-9eb0-4e16-84b3-404bfcdc4a6b",
   "metadata": {},
   "outputs": [
    {
     "name": "stderr",
     "output_type": "stream",
     "text": [
      "2024-02-07 14:27:00.181335: I external/local_xla/xla/stream_executor/cuda/cuda_dnn.cc:454] Loaded cuDNN version 8904\n",
      "2024-02-07 14:27:00.533044: I external/local_tsl/tsl/platform/default/subprocess.cc:304] Start cannot spawn child process: No such file or directory\n"
     ]
    },
    {
     "name": "stdout",
     "output_type": "stream",
     "text": [
      "300/300 [==============================] - 61s 174ms/step\n"
     ]
    }
   ],
   "source": [
    "\n",
    "result_batch = classifier.predict(train_ds)"
   ]
  },
  {
   "cell_type": "code",
   "execution_count": 18,
   "id": "99d20f01-05c0-4468-b332-298aae7b53db",
   "metadata": {},
   "outputs": [
    {
     "name": "stdout",
     "output_type": "stream",
     "text": [
      "300/300 [==============================] - 52s 174ms/step\n"
     ]
    },
    {
     "data": {
      "text/plain": [
       "array(['Chihuahua', 'golden retriever', 'Pomeranian', ..., 'clumber',\n",
       "       'English foxhound', 'cairn'], dtype='<U30')"
      ]
     },
     "execution_count": 18,
     "metadata": {},
     "output_type": "execute_result"
    }
   ],
   "source": [
    "\n",
    "     \n",
    "\n",
    "predicted_class_names = imagenet_labels[tf.math.argmax(result_batch, axis=-1)]\n",
    "predicted_class_names\n",
    "     "
   ]
  },
  {
   "cell_type": "code",
   "execution_count": 12,
   "id": "03ad309e-d9f4-4437-911a-17ad4ac61165",
   "metadata": {},
   "outputs": [],
   "source": [
    "from tensorflow import keras"
   ]
  },
  {
   "cell_type": "code",
   "execution_count": 14,
   "id": "a7e28787-d369-4bde-bd47-0181a5b6944c",
   "metadata": {
    "scrolled": true
   },
   "outputs": [
    {
     "name": "stdout",
     "output_type": "stream",
     "text": [
      "Model: \"sequential_1\"\n",
      "_________________________________________________________________\n",
      " Layer (type)                Output Shape              Param #   \n",
      "=================================================================\n",
      " random_flip (RandomFlip)    (None, 224, 224, 3)       0         \n",
      "                                                                 \n",
      " random_rotation (RandomRot  (None, 224, 224, 3)       0         \n",
      " ation)                                                          \n",
      "                                                                 \n",
      " random_zoom (RandomZoom)    (None, 224, 224, 3)       0         \n",
      "                                                                 \n",
      " keras_layer_1 (KerasLayer)  (None, 1280)              2257984   \n",
      "                                                                 \n",
      " dense (Dense)               (None, 120)               153720    \n",
      "                                                                 \n",
      "=================================================================\n",
      "Total params: 2411704 (9.20 MB)\n",
      "Trainable params: 153720 (600.47 KB)\n",
      "Non-trainable params: 2257984 (8.61 MB)\n",
      "_________________________________________________________________\n"
     ]
    }
   ],
   "source": [
    "num_of_flowers = len(class_names)\n",
    "\n",
    "model = tf.keras.Sequential([\n",
    "      keras.layers.RandomFlip(\"horizontal\",\n",
    "                      input_shape=(img_height,\n",
    "                                  img_width,\n",
    "                                  3)),\n",
    "  keras.layers.RandomRotation(0.1),\n",
    "  keras.layers.RandomZoom(0.1),\n",
    "  pretrained_model_without_top_layer,\n",
    "  tf.keras.layers.Dense(num_of_flowers)\n",
    "])\n",
    "\n",
    "model.summary()"
   ]
  },
  {
   "cell_type": "code",
   "execution_count": 15,
   "id": "a78f1c73-82a3-4f4a-8c4a-5994f8bd6b4c",
   "metadata": {},
   "outputs": [
    {
     "name": "stdout",
     "output_type": "stream",
     "text": [
      "Epoch 1/10\n"
     ]
    },
    {
     "name": "stderr",
     "output_type": "stream",
     "text": [
      "2024-02-07 14:29:16.555932: I external/local_xla/xla/service/service.cc:168] XLA service 0x7f29727aa470 initialized for platform CUDA (this does not guarantee that XLA will be used). Devices:\n",
      "2024-02-07 14:29:16.555962: I external/local_xla/xla/service/service.cc:176]   StreamExecutor device (0): NVIDIA GeForce MX150, Compute Capability 6.1\n",
      "2024-02-07 14:29:16.574401: I tensorflow/compiler/mlir/tensorflow/utils/dump_mlir_util.cc:269] disabling MLIR crash reproducer, set env var `MLIR_CRASH_REPRODUCER_DIRECTORY` to enable.\n"
     ]
    },
    {
     "name": "stdout",
     "output_type": "stream",
     "text": [
      "  1/300 [..............................] - ETA: 22:39 - loss: 5.0143 - acc: 0.0000e+00"
     ]
    },
    {
     "name": "stderr",
     "output_type": "stream",
     "text": [
      "WARNING: All log messages before absl::InitializeLog() is called are written to STDERR\n",
      "I0000 00:00:1707308957.594454    4082 device_compiler.h:186] Compiled cluster using XLA!  This line is logged at most once for the lifetime of the process.\n"
     ]
    },
    {
     "name": "stdout",
     "output_type": "stream",
     "text": [
      "300/300 [==============================] - 81s 255ms/step - loss: 1.7039 - acc: 0.5810 - val_loss: 0.7315 - val_acc: 0.7650\n",
      "Epoch 2/10\n",
      "300/300 [==============================] - 77s 255ms/step - loss: 0.7770 - acc: 0.7686 - val_loss: 0.6384 - val_acc: 0.7837\n",
      "Epoch 3/10\n",
      "300/300 [==============================] - 77s 258ms/step - loss: 0.6419 - acc: 0.8047 - val_loss: 0.5640 - val_acc: 0.8117\n",
      "Epoch 4/10\n",
      "300/300 [==============================] - 77s 257ms/step - loss: 0.5499 - acc: 0.8294 - val_loss: 0.5533 - val_acc: 0.8171\n",
      "Epoch 5/10\n",
      "300/300 [==============================] - 77s 257ms/step - loss: 0.4887 - acc: 0.8479 - val_loss: 0.5653 - val_acc: 0.8092\n",
      "Epoch 6/10\n",
      "300/300 [==============================] - 77s 257ms/step - loss: 0.4348 - acc: 0.8629 - val_loss: 0.5612 - val_acc: 0.8096\n",
      "Epoch 7/10\n",
      "300/300 [==============================] - 77s 257ms/step - loss: 0.3908 - acc: 0.8760 - val_loss: 0.5651 - val_acc: 0.8133\n",
      "Epoch 8/10\n",
      "300/300 [==============================] - 77s 257ms/step - loss: 0.3685 - acc: 0.8825 - val_loss: 0.5572 - val_acc: 0.8158\n",
      "Epoch 9/10\n",
      "300/300 [==============================] - 77s 257ms/step - loss: 0.3405 - acc: 0.8920 - val_loss: 0.5766 - val_acc: 0.8083\n",
      "Epoch 10/10\n",
      "300/300 [==============================] - 77s 257ms/step - loss: 0.3178 - acc: 0.8970 - val_loss: 0.5611 - val_acc: 0.8096\n"
     ]
    }
   ],
   "source": [
    "\n",
    "model.compile(\n",
    "  optimizer=\"adam\",\n",
    "  loss=tf.keras.losses.SparseCategoricalCrossentropy(from_logits=True),\n",
    "  metrics=['acc'])\n"
   ]
  },
  {
   "cell_type": "code",
   "execution_count": 64,
   "id": "681908a4-f820-40dd-8401-72cd4a80f0af",
   "metadata": {},
   "outputs": [
    {
     "name": "stdout",
     "output_type": "stream",
     "text": [
      "Epoch 1/10\n",
      "300/300 [==============================] - 77s 257ms/step - loss: 0.2896 - acc: 0.9099 - val_loss: 0.5459 - val_acc: 0.8204\n",
      "Epoch 2/10\n",
      "300/300 [==============================] - 77s 257ms/step - loss: 0.2714 - acc: 0.9134 - val_loss: 0.5705 - val_acc: 0.8050\n",
      "Epoch 3/10\n",
      "300/300 [==============================] - 77s 257ms/step - loss: 0.2591 - acc: 0.9161 - val_loss: 0.5774 - val_acc: 0.8142\n",
      "Epoch 4/10\n",
      "300/300 [==============================] - 77s 257ms/step - loss: 0.2450 - acc: 0.9242 - val_loss: 0.5996 - val_acc: 0.8050\n",
      "Epoch 5/10\n",
      "300/300 [==============================] - 77s 256ms/step - loss: 0.2370 - acc: 0.9235 - val_loss: 0.5799 - val_acc: 0.8112\n",
      "Epoch 6/10\n",
      "300/300 [==============================] - 77s 255ms/step - loss: 0.2081 - acc: 0.9352 - val_loss: 0.5991 - val_acc: 0.8104\n",
      "Epoch 7/10\n",
      "300/300 [==============================] - 77s 255ms/step - loss: 0.1987 - acc: 0.9384 - val_loss: 0.5814 - val_acc: 0.8108\n",
      "Epoch 8/10\n",
      "300/300 [==============================] - 77s 255ms/step - loss: 0.1971 - acc: 0.9388 - val_loss: 0.5948 - val_acc: 0.8133\n",
      "Epoch 9/10\n",
      "300/300 [==============================] - 77s 255ms/step - loss: 0.1934 - acc: 0.9433 - val_loss: 0.6143 - val_acc: 0.8033\n",
      "Epoch 10/10\n",
      "300/300 [==============================] - 77s 255ms/step - loss: 0.1867 - acc: 0.9420 - val_loss: 0.6243 - val_acc: 0.8133\n"
     ]
    }
   ],
   "source": [
    "epochs=10\n",
    "history = model.fit(\n",
    "  train_ds,\n",
    "  validation_data=val_ds,\n",
    "  epochs=epochs\n",
    ")"
   ]
  },
  {
   "cell_type": "code",
   "execution_count": 19,
   "id": "e8b51e24-4ac2-4486-88b8-c5efca64dc28",
   "metadata": {},
   "outputs": [
    {
     "name": "stdout",
     "output_type": "stream",
     "text": [
      "1/1 [==============================] - 3s 3s/step\n"
     ]
    },
    {
     "data": {
      "text/plain": [
       "array(['n02088238-basset'], dtype='<U40')"
      ]
     },
     "execution_count": 19,
     "metadata": {},
     "output_type": "execute_result"
    }
   ],
   "source": [
    "predicted = model.predict(grace_hopper[np.newaxis, ...])\n",
    "predicted.shape\n",
    "predicted = np.argmax(predicted, axis=1)\n",
    "class_names[predicted]"
   ]
  },
  {
   "cell_type": "code",
   "execution_count": 20,
   "id": "ff9483b5-ae05-497e-9af5-9ff9d837dec2",
   "metadata": {},
   "outputs": [
    {
     "name": "stdout",
     "output_type": "stream",
     "text": [
      "Found 8580 files belonging to 120 classes.\n"
     ]
    }
   ],
   "source": [
    "test_ds= tf.keras.utils.image_dataset_from_directory(\n",
    "  'archive/cropped/test',\n",
    "  image_size=(img_height, img_width),\n",
    "  batch_size=batch_size)\n"
   ]
  },
  {
   "cell_type": "code",
   "execution_count": 46,
   "id": "efdcdacf-47d0-461e-ae0c-22bfb8e555c5",
   "metadata": {},
   "outputs": [],
   "source": [
    "from tensorflow.keras.metrics import Precision, Recall, BinaryAccuracy"
   ]
  },
  {
   "cell_type": "code",
   "execution_count": 47,
   "id": "4ea4ee7a-babb-4045-81b3-9ecc937c63f8",
   "metadata": {},
   "outputs": [],
   "source": [
    "pre = Precision()\n",
    "re = Recall()\n",
    "acc = BinaryAccuracy()"
   ]
  },
  {
   "cell_type": "code",
   "execution_count": 21,
   "id": "5cb7f0f7-a95a-4a80-aa28-59a9f2cbedc7",
   "metadata": {},
   "outputs": [],
   "source": [
    "test_ds = test_ds.map(lambda x, y: (normalization_layer(x), y)) # Where x—images, y—labels."
   ]
  },
  {
   "cell_type": "code",
   "execution_count": 22,
   "id": "c407a40c-839e-4604-b04a-1366019b1c7d",
   "metadata": {},
   "outputs": [
    {
     "name": "stdout",
     "output_type": "stream",
     "text": [
      "269/269 [==============================] - 55s 206ms/step - loss: 0.5655 - acc: 0.8244\n"
     ]
    },
    {
     "data": {
      "text/plain": [
       "[0.5654774308204651, 0.8243589997291565]"
      ]
     },
     "execution_count": 22,
     "metadata": {},
     "output_type": "execute_result"
    }
   ],
   "source": [
    "model.evaluate(test_ds)\n"
   ]
  },
  {
   "cell_type": "code",
   "execution_count": 32,
   "id": "cd2f52dc-173a-4707-9d41-5ebbc728dbdf",
   "metadata": {},
   "outputs": [
    {
     "name": "stdout",
     "output_type": "stream",
     "text": [
      "INFO:tensorflow:Assets written to: transerModel1/assets\n"
     ]
    },
    {
     "name": "stderr",
     "output_type": "stream",
     "text": [
      "INFO:tensorflow:Assets written to: transerModel1/assets\n"
     ]
    }
   ],
   "source": [
    "model.save('trans-model2')"
   ]
  },
  {
   "cell_type": "code",
   "execution_count": 1,
   "id": "a66f72c7-9261-4acb-8b7a-619890dce323",
   "metadata": {},
   "outputs": [
    {
     "name": "stderr",
     "output_type": "stream",
     "text": [
      "2024-02-12 09:29:44.487178: E external/local_xla/xla/stream_executor/cuda/cuda_dnn.cc:9261] Unable to register cuDNN factory: Attempting to register factory for plugin cuDNN when one has already been registered\n",
      "2024-02-12 09:29:44.487481: E external/local_xla/xla/stream_executor/cuda/cuda_fft.cc:607] Unable to register cuFFT factory: Attempting to register factory for plugin cuFFT when one has already been registered\n",
      "2024-02-12 09:29:44.587246: E external/local_xla/xla/stream_executor/cuda/cuda_blas.cc:1515] Unable to register cuBLAS factory: Attempting to register factory for plugin cuBLAS when one has already been registered\n",
      "2024-02-12 09:29:44.790381: I tensorflow/core/platform/cpu_feature_guard.cc:182] This TensorFlow binary is optimized to use available CPU instructions in performance-critical operations.\n",
      "To enable the following instructions: AVX2 FMA, in other operations, rebuild TensorFlow with the appropriate compiler flags.\n",
      "2024-02-12 09:29:46.446412: W tensorflow/compiler/tf2tensorrt/utils/py_utils.cc:38] TF-TRT Warning: Could not find TensorRT\n"
     ]
    }
   ],
   "source": [
    "from tensorflow.keras.models import load_model"
   ]
  },
  {
   "cell_type": "code",
   "execution_count": 2,
   "id": "f1d92b00-c7ec-4d26-95fc-ea1d9157854f",
   "metadata": {},
   "outputs": [
    {
     "name": "stderr",
     "output_type": "stream",
     "text": [
      "2024-02-12 09:29:48.231372: I external/local_xla/xla/stream_executor/cuda/cuda_executor.cc:901] successful NUMA node read from SysFS had negative value (-1), but there must be at least one NUMA node, so returning NUMA node zero. See more at https://github.com/torvalds/linux/blob/v6.0/Documentation/ABI/testing/sysfs-bus-pci#L344-L355\n",
      "2024-02-12 09:29:48.592527: I external/local_xla/xla/stream_executor/cuda/cuda_executor.cc:901] successful NUMA node read from SysFS had negative value (-1), but there must be at least one NUMA node, so returning NUMA node zero. See more at https://github.com/torvalds/linux/blob/v6.0/Documentation/ABI/testing/sysfs-bus-pci#L344-L355\n",
      "2024-02-12 09:29:48.593298: I external/local_xla/xla/stream_executor/cuda/cuda_executor.cc:901] successful NUMA node read from SysFS had negative value (-1), but there must be at least one NUMA node, so returning NUMA node zero. See more at https://github.com/torvalds/linux/blob/v6.0/Documentation/ABI/testing/sysfs-bus-pci#L344-L355\n",
      "2024-02-12 09:29:48.597061: I external/local_xla/xla/stream_executor/cuda/cuda_executor.cc:901] successful NUMA node read from SysFS had negative value (-1), but there must be at least one NUMA node, so returning NUMA node zero. See more at https://github.com/torvalds/linux/blob/v6.0/Documentation/ABI/testing/sysfs-bus-pci#L344-L355\n",
      "2024-02-12 09:29:48.597783: I external/local_xla/xla/stream_executor/cuda/cuda_executor.cc:901] successful NUMA node read from SysFS had negative value (-1), but there must be at least one NUMA node, so returning NUMA node zero. See more at https://github.com/torvalds/linux/blob/v6.0/Documentation/ABI/testing/sysfs-bus-pci#L344-L355\n",
      "2024-02-12 09:29:48.598454: I external/local_xla/xla/stream_executor/cuda/cuda_executor.cc:901] successful NUMA node read from SysFS had negative value (-1), but there must be at least one NUMA node, so returning NUMA node zero. See more at https://github.com/torvalds/linux/blob/v6.0/Documentation/ABI/testing/sysfs-bus-pci#L344-L355\n",
      "2024-02-12 09:29:48.712464: I external/local_xla/xla/stream_executor/cuda/cuda_executor.cc:901] successful NUMA node read from SysFS had negative value (-1), but there must be at least one NUMA node, so returning NUMA node zero. See more at https://github.com/torvalds/linux/blob/v6.0/Documentation/ABI/testing/sysfs-bus-pci#L344-L355\n",
      "2024-02-12 09:29:48.712763: I external/local_xla/xla/stream_executor/cuda/cuda_executor.cc:901] successful NUMA node read from SysFS had negative value (-1), but there must be at least one NUMA node, so returning NUMA node zero. See more at https://github.com/torvalds/linux/blob/v6.0/Documentation/ABI/testing/sysfs-bus-pci#L344-L355\n",
      "2024-02-12 09:29:48.713029: I external/local_xla/xla/stream_executor/cuda/cuda_executor.cc:901] successful NUMA node read from SysFS had negative value (-1), but there must be at least one NUMA node, so returning NUMA node zero. See more at https://github.com/torvalds/linux/blob/v6.0/Documentation/ABI/testing/sysfs-bus-pci#L344-L355\n",
      "2024-02-12 09:29:48.713229: I tensorflow/core/common_runtime/gpu/gpu_device.cc:1929] Created device /job:localhost/replica:0/task:0/device:GPU:0 with 3504 MB memory:  -> device: 0, name: NVIDIA GeForce MX150, pci bus id: 0000:01:00.0, compute capability: 6.1\n"
     ]
    }
   ],
   "source": [
    "trans_model = load_model('trans-model2')"
   ]
  },
  {
   "cell_type": "code",
   "execution_count": 2,
   "id": "094496b4-89dd-45ed-b1b2-61f6912109a0",
   "metadata": {},
   "outputs": [
    {
     "data": {
      "image/png": "[encoded data removed]",
      "text/plain": [
       "<PIL.Image.Image image mode=RGB size=224x224 at 0x7FA7F5A6E590>"
      ]
     },
     "execution_count": 2,
     "metadata": {},
     "output_type": "execute_result"
    }
   ],
   "source": [
    "\n",
    "\n",
    "grace_hopper = Image.open('image-test/dog-1407425.jpg').resize((224, 224))\n",
    "grace_hopper"
   ]
  },
  {
   "cell_type": "code",
   "execution_count": 18,
   "id": "190b991d-f588-48bd-8ed4-cb12e483f312",
   "metadata": {},
   "outputs": [],
   "source": [
    "# grace_hopper = np.array(grace_hopper)/255.0\n",
    "# import sys\n",
    "# np.set_printoptions(threshold=sys.maxsize)\n",
    "# array = grace_hopper[np.newaxis, ...]\n",
    "# import json\n",
    "# y = json.dumps(array.tolist(),separators=(',', ':'), \n",
    "#           sort_keys=True, \n",
    "#           indent=4)\n",
    "\n",
    "# f = open(\"demofile3.txt\", \"w\")\n",
    "# f.write(y)\n",
    "# f.close()"
   ]
  },
  {
   "cell_type": "code",
   "execution_count": 10,
   "id": "3c94a60e-dd7e-4ef9-b62c-cb21dcb10712",
   "metadata": {},
   "outputs": [
    {
     "name": "stdout",
     "output_type": "stream",
     "text": [
      "1/1 [==============================] - 0s 34ms/step\n",
      "76.72703266143799\n"
     ]
    },
    {
     "data": {
      "text/plain": [
       "'n02106662-German_shepherd'"
      ]
     },
     "execution_count": 10,
     "metadata": {},
     "output_type": "execute_result"
    }
   ],
   "source": [
    "predicted = trans_model.predict(grace_hopper[np.newaxis, ...])\n",
    "score = tf.nn.softmax(predicted[0])\n",
    "print(100 * np.max(score))  \n",
    "predicted = np.argmax(predicted, axis=1)\n",
    "class_names[predicted][0]"
   ]
  },
  {
   "cell_type": "code",
   "execution_count": 4,
   "id": "ed783180-ff95-4e7d-8561-b4d648247ca8",
   "metadata": {},
   "outputs": [
    {
     "name": "stdout",
     "output_type": "stream",
     "text": [
      "42.36522614955902\n"
     ]
    },
    {
     "data": {
      "text/plain": [
       "'n02091134-whippet'"
      ]
     },
     "execution_count": 4,
     "metadata": {},
     "output_type": "execute_result"
    }
   ],
   "source": [
    "predicted =[\n",
    "        [\n",
    "            -15.0176983,\n",
    "            -23.716917,\n",
    "            -19.9212265,\n",
    "            -18.2458344,\n",
    "            -20.3182983,\n",
    "            -17.7943325,\n",
    "            -19.365818,\n",
    "            -19.386179,\n",
    "            -19.5123806,\n",
    "            -15.6936064,\n",
    "            -12.9147778,\n",
    "            -15.8824816,\n",
    "            -18.9749985,\n",
    "            -17.7468472,\n",
    "            -19.5899906,\n",
    "            -22.1196442,\n",
    "            -20.3103027,\n",
    "            -19.732996,\n",
    "            -20.3553219,\n",
    "            -18.6916237,\n",
    "            -18.5538559,\n",
    "            -10.5900278,\n",
    "            -19.1635265,\n",
    "            -15.4991198,\n",
    "            -17.7905331,\n",
    "            -16.9652138,\n",
    "            -18.3990173,\n",
    "            -12.7540512,\n",
    "            -17.7611523,\n",
    "            -16.8114376,\n",
    "            -18.438446,\n",
    "            -21.2645931,\n",
    "            -18.7483139,\n",
    "            -16.775898,\n",
    "            -19.0467205,\n",
    "            -17.4257126,\n",
    "            -15.1703,\n",
    "            -23.965704,\n",
    "            -14.4795198,\n",
    "            -21.1022243,\n",
    "            -15.5586853,\n",
    "            -22.0241776,\n",
    "            -20.9757481,\n",
    "            -20.9599609,\n",
    "            -18.5905457,\n",
    "            -16.5101585,\n",
    "            -19.0791817,\n",
    "            -20.5248756,\n",
    "            -15.8457441,\n",
    "            -23.1159935,\n",
    "            -19.5043488,\n",
    "            -18.4589367,\n",
    "            -20.2652645,\n",
    "            -15.9254303,\n",
    "            -15.2509546,\n",
    "            -16.0867214,\n",
    "            -18.6742878,\n",
    "            -15.2909956,\n",
    "            -13.6281576,\n",
    "            -17.8882885,\n",
    "            -22.9862881,\n",
    "            -17.6517372,\n",
    "            -18.3116646,\n",
    "            -21.4408588,\n",
    "            -15.76373,\n",
    "            -16.8298759,\n",
    "            -18.1352177,\n",
    "            -20.7763882,\n",
    "            -17.6138592,\n",
    "            -19.8908176,\n",
    "            -17.4350204,\n",
    "            -17.2336025,\n",
    "            -19.4972305,\n",
    "            -16.4610653,\n",
    "            -19.3759365,\n",
    "            -17.9063129,\n",
    "            -20.5022526,\n",
    "            -20.8341751,\n",
    "            -22.2504654,\n",
    "            -13.1208897,\n",
    "            -18.2130623,\n",
    "            -20.967432,\n",
    "            -15.6065454,\n",
    "            -18.5607033,\n",
    "            -15.2745504,\n",
    "            -15.5589952,\n",
    "            -18.6413307,\n",
    "            -18.6642036,\n",
    "            -19.0675678,\n",
    "            -20.3442135,\n",
    "            -18.9284267,\n",
    "            -18.1020508,\n",
    "            -19.290287,\n",
    "            -17.2064934,\n",
    "            -15.4022284,\n",
    "            -15.9818459,\n",
    "            -19.8965645,\n",
    "            -16.1818771,\n",
    "            -14.9351673,\n",
    "            -17.2677364,\n",
    "            -17.5383072,\n",
    "            -21.2984886,\n",
    "            -16.9593697,\n",
    "            -18.1001987,\n",
    "            -11.1294708,\n",
    "            -16.2670078,\n",
    "            -15.5169096,\n",
    "            -17.5762825,\n",
    "            -14.6437283,\n",
    "            -16.0503578,\n",
    "            -19.5154305,\n",
    "            -15.023262,\n",
    "            -18.4703026,\n",
    "            -15.9495687,\n",
    "            -19.1358299,\n",
    "            -15.3623514,\n",
    "            -21.3906136,\n",
    "            -22.0312538,\n",
    "            -19.5920639,\n",
    "            -12.2986107\n",
    "        ]\n",
    "    ]\n",
    "score = tf.nn.softmax(predicted[0])\n",
    "print(100 * np.max(score))  \n",
    "predicted = np.argmax(predicted, axis=1)\n",
    "class_names[predicted][0]"
   ]
  },
  {
   "cell_type": "code",
   "execution_count": 68,
   "id": "0da65bd1-a85e-47c7-aae8-422dca54a20a",
   "metadata": {},
   "outputs": [
    {
     "name": "stdout",
     "output_type": "stream",
     "text": [
      "INFO:tensorflow:Assets written to: trans-model2/assets\n"
     ]
    },
    {
     "name": "stderr",
     "output_type": "stream",
     "text": [
      "INFO:tensorflow:Assets written to: trans-model2/assets\n"
     ]
    }
   ],
   "source": []
  },
  {
   "cell_type": "code",
   "execution_count": 69,
   "id": "ebadc106-b984-451e-b0ee-2636999cb329",
   "metadata": {},
   "outputs": [
    {
     "name": "stdout",
     "output_type": "stream",
     "text": [
      "1/1 [==============================] - 0s 26ms/step\n",
      "n02085620-Chihuahua--predicted:\n",
      "n02085620-Chihuahua\n",
      "1/1 [==============================] - 0s 22ms/step\n",
      "n02092002-Scottish_deerhound--predicted:\n",
      "n02092002-Scottish_deerhound\n",
      "1/1 [==============================] - 0s 23ms/step\n",
      "n02107683-Bernese_mountain_dog--predicted:\n",
      "n02107683-Bernese_mountain_dog\n",
      "1/1 [==============================] - 0s 25ms/step\n",
      "n02092339-Weimaraner--predicted:\n",
      "n02092339-Weimaraner\n",
      "1/1 [==============================] - 0s 23ms/step\n",
      "n02098413-Lhasa--predicted:\n",
      "n02098413-Lhasa\n",
      "1/1 [==============================] - 0s 23ms/step\n",
      "n02101388-Brittany_spaniel--predicted:\n",
      "n02101388-Brittany_spaniel\n",
      "1/1 [==============================] - 0s 23ms/step\n",
      "n02090622-borzoi--predicted:\n",
      "n02090622-borzoi\n",
      "1/1 [==============================] - 0s 21ms/step\n",
      "n02096294-Australian_terrier--predicted:\n",
      "n02096294-Australian_terrier\n"
     ]
    },
    {
     "data": {
      "text/plain": [
       "<Figure size 1000x500 with 0 Axes>"
      ]
     },
     "metadata": {},
     "output_type": "display_data"
    }
   ],
   "source": [
    "plt.figure(figsize=(10, 5))\n",
    "for images, labels in train_ds.take(1):\n",
    "  for i in range(8):\n",
    "    predicted = model.predict((np.array(images[i]))[np.newaxis, ...])\n",
    "\n",
    "    predicted = np.argmax(predicted, axis=1)\n",
    "    actaul = class_names[labels[i]]\n",
    "    pred =  class_names[predicted][0] \n",
    "    print(actaul +'--predicted:\\n' + pred)\n",
    "   "
   ]
  }
 ],
 "metadata": {
  "kernelspec": {
   "display_name": "Python 3 (ipykernel)",
   "language": "python",
   "name": "python3"
  },
  "language_info": {
   "codemirror_mode": {
    "name": "ipython",
    "version": 3
   },
   "file_extension": ".py",
   "mimetype": "text/x-python",
   "name": "python",
   "nbconvert_exporter": "python",
   "pygments_lexer": "ipython3",
   "version": "3.10.12"
  }
 },
 "nbformat": 4,
 "nbformat_minor": 5
}
